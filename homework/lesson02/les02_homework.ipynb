{
 "cells": [
  {
   "cell_type": "markdown",
   "metadata": {},
   "source": [
    "# GeekBrains Calculus. Lesson 2 & 3 Homework."
   ]
  },
  {
   "cell_type": "markdown",
   "metadata": {},
   "source": [
    "## Введение в математический анализ"
   ]
  },
  {
   "cell_type": "markdown",
   "metadata": {},
   "source": [
    "1. **Как относятся друг к другу множество и последовательность? (в ответе использовать слова типа: часть, целое, общее, частное, родитель, дочерний субъект и т.д.)**"
   ]
  },
  {
   "cell_type": "markdown",
   "metadata": {},
   "source": [
    "Последовательность - бесконечное упорядоченное множество элементов, которые могут повторяться."
   ]
  },
  {
   "cell_type": "markdown",
   "metadata": {},
   "source": [
    "2. **Прочитать высказывания математической логики, построить их отрицания и установить истинность.**\n",
    "\n",
    "<center>\n",
    "    $$\n",
    "        1) \\forall y \\in [0;1]: sgn(y) = 1 \\\\\n",
    "        2) \\forall n \\in \\mathbb{N} > 2: \\exists x,y,z \\in \\mathbb{N}: x^n = y^n + z^n \\\\\n",
    "        3) \\forall x \\in \\mathbb{R} \\exists X \\in \\mathbb{R}: X > x \\\\\n",
    "        4) \\forall x \\in \\mathbb{C} \\nexists y \\in \\mathbb{C} : x > y || x < y \\\\\n",
    "        5) \\forall y \\in [0; \\frac{\\pi}{2}] \\exists \\epsilon > 0: sin y < sin(y + \\epsilon) \\\\\n",
    "        6) \\forall y \\in [0; \\pi) \\exists \\epsilon > 0: cos y > cos(y + \\epsilon) \\\\\n",
    "        7) \\exists x : x \\notin \\{\\mathbb{N}, \\mathbb{Z}, \\mathbb{Q}, \\mathbb{R}, \\mathbb{C}\\}\n",
    "    $$\n",
    "</center>"
   ]
  },
  {
   "cell_type": "markdown",
   "metadata": {},
   "source": [
    "1) $ \\forall y \\in [0;1]: sgn(y) = 1 $ \\\n",
    "Чтение: Для всех чисел y в интервале от 0 до 1 включительно, знак положителен. \\\n",
    "Высказывание ложно. sgn(0) = 0. \\\n",
    "Отрицание - $ \\exists y \\in [0;1]: sgn(y) \\neq 1 $."
   ]
  },
  {
   "cell_type": "markdown",
   "metadata": {},
   "source": [
    "2) $ \\forall n \\in \\mathbb{N} > 2: \\exists x,y,z \\in \\mathbb{N}: x^n = y^n + z^n $ \\\n",
    "Чтение: Для всех натуральных чисел n больше 2 существует хотя бы 1 набор натуральных чисел x, y, z, при котором x в степени n равно сумме y в степени n и z в степени n. \\\n",
    "Высказывание ложно. По последней теореме Ферма для n > 2 нет натуральных решений для такого уравнения. \\\n",
    "Отрицание - $ \\exists n \\in \\mathbb{N} > 2: \\forall x, y, z \\in \\mathbb{N}: x^n \\neq y^n + z^n $."
   ]
  },
  {
   "cell_type": "markdown",
   "metadata": {},
   "source": [
    "3) $ \\forall x \\in \\mathbb{R} \\exists X \\in \\mathbb{R}: X > x $ \\\n",
    "Чтение: Для всех вещественных чисел x существует хотя бы 1 вещественное число X, которое больше x. \\\n",
    "Высказывание верно. Вещественные числа бесконечны, поэтому всегда есть число, большее, чем какое-либо. \\\n",
    "Отрицание - $ \\exists x \\in \\mathbb{R} \\forall X \\in \\mathbb{R}: X < x $."
   ]
  },
  {
   "cell_type": "markdown",
   "metadata": {},
   "source": [
    "4) $ \\forall x \\in \\mathbb{C} \\nexists y \\in \\mathbb{C} : x > y \\| x < y $ \\\n",
    "Чтение: Для всех комплексных чисел x не существует такого комплексного числа y, при котором x больше или меньше y. \\\n",
    "Высказывание верно. Комплексные числа неупорядочены, поэтому мы не можем сказать, что одно строго больше или меньше другого - для этого нам потребуется определить, что значит быть больше/меньше. \\\n",
    "Отрицание - $ \\exists x, y \\in \\mathbb{C} : x > y \\| x < y $."
   ]
  },
  {
   "cell_type": "markdown",
   "metadata": {},
   "source": [
    "5) $ \\forall y \\in [0; \\frac{\\pi}{2}] \\exists \\varepsilon > 0: sin y < sin(y + \\varepsilon) $ \\\n",
    "Чтение: Для всех чисел y в интервале от 0 до $\\frac{\\pi}{2}$ включительно существует такое положительное число $\\varepsilon$, при котором $sin y$ меньше $sin(y + \\varepsilon)$. \\\n",
    "Высказывание ложно. Если $y = \\frac{\\pi}{2} \\Rightarrow sin y = 1$, что является максимальным значением функции синуса, а значит большего значения быть не может. \\\n",
    "Отрицание - $ \\exists y \\in [0; \\frac{\\pi}{2}] \\forall \\varepsilon > 0: sin y \\ge sin(y + \\varepsilon) $."
   ]
  },
  {
   "cell_type": "markdown",
   "metadata": {},
   "source": [
    "6) $ \\forall y \\in [0; \\pi) \\exists \\varepsilon > 0: cos y > cos(y + \\varepsilon) $ \\\n",
    "Чтение: Для всех чисел y в интервале от 0 включительно до $\\pi$ невключительно существует такое положительное число $\\varepsilon$, при котором $cos y$ больше $cos(y + \\varepsilon)$. \\\n",
    "Высказывание верно. Добавив к y $\\varepsilon: y + \\varepsilon = \\pi + 2\\pi k$, можно получить $cos(y + \\varepsilon) = cos \\pi = -1$, что будет строго меньше любого $cos y, y \\in [0; \\pi)$. \\\n",
    "Отрицание - $ \\exists y \\in [0; \\pi) \\forall \\varepsilon > 0: cos y \\le cos(y + \\varepsilon) $."
   ]
  },
  {
   "cell_type": "markdown",
   "metadata": {},
   "source": [
    "7) $ \\exists x : x \\notin \\{\\mathbb{N}, \\mathbb{Z}, \\mathbb{Q}, \\mathbb{R}, \\mathbb{C}\\} $ \\\n",
    "Чтение: Существует хотя бы одно число x, не являющееся натуральным, целым, рациональным, действительным или комплексным. \\\n",
    "Высказывание верно. Есть числа, не вписывающиеся в комплексные - кардиналы, кватернионы. \\\n",
    "Отрицание - $ \\forall x : x \\in \\{\\mathbb{N}, \\mathbb{Z}, \\mathbb{Q}, \\mathbb{R}, \\mathbb{C}\\} $."
   ]
  },
  {
   "cell_type": "markdown",
   "metadata": {},
   "source": [
    "## Множество"
   ]
  },
  {
   "cell_type": "markdown",
   "metadata": {},
   "source": [
    "1. **Даны три множества a, b и с. Необходимо выполнить все изученные виды бинарных операций над всеми комбинациями множеств.**\n",
    "2. **\\*Выполнить задание 1 на языке Python.**"
   ]
  },
  {
   "cell_type": "code",
   "execution_count": 40,
   "metadata": {},
   "outputs": [],
   "source": [
    "a = {1, 2, 3, 4, 5, 6, 7}\n",
    "b = {1, 3, 7, 9, 10, 11, 13}\n",
    "c = {2, 4, 8, 10, 12, 14}"
   ]
  },
  {
   "cell_type": "markdown",
   "metadata": {},
   "source": [
    "Дополнения ко множеству (A) в Python нет - т.к. это все, что не во множестве A. \\\n",
    "Иначе: U-A, при этом U бесконечно."
   ]
  },
  {
   "cell_type": "markdown",
   "metadata": {},
   "source": [
    "**Объединение**"
   ]
  },
  {
   "cell_type": "code",
   "execution_count": 41,
   "metadata": {},
   "outputs": [
    {
     "data": {
      "text/plain": [
       "{1, 2, 3, 4, 5, 6, 7, 9, 10, 11, 13}"
      ]
     },
     "execution_count": 41,
     "metadata": {},
     "output_type": "execute_result"
    }
   ],
   "source": [
    "a | b"
   ]
  },
  {
   "cell_type": "code",
   "execution_count": 42,
   "metadata": {},
   "outputs": [
    {
     "data": {
      "text/plain": [
       "{1, 2, 3, 4, 7, 8, 9, 10, 11, 12, 13, 14}"
      ]
     },
     "execution_count": 42,
     "metadata": {},
     "output_type": "execute_result"
    }
   ],
   "source": [
    "b | c"
   ]
  },
  {
   "cell_type": "code",
   "execution_count": 43,
   "metadata": {},
   "outputs": [
    {
     "data": {
      "text/plain": [
       "{1, 2, 3, 4, 5, 6, 7, 8, 10, 12, 14}"
      ]
     },
     "execution_count": 43,
     "metadata": {},
     "output_type": "execute_result"
    }
   ],
   "source": [
    "a | c"
   ]
  },
  {
   "cell_type": "code",
   "execution_count": 44,
   "metadata": {},
   "outputs": [
    {
     "data": {
      "text/plain": [
       "{1, 2, 3, 4, 5, 6, 7, 8, 9, 10, 11, 12, 13, 14}"
      ]
     },
     "execution_count": 44,
     "metadata": {},
     "output_type": "execute_result"
    }
   ],
   "source": [
    "a | b | c"
   ]
  },
  {
   "cell_type": "markdown",
   "metadata": {},
   "source": [
    "**Пересечение**"
   ]
  },
  {
   "cell_type": "code",
   "execution_count": 45,
   "metadata": {},
   "outputs": [
    {
     "data": {
      "text/plain": [
       "{1, 3, 7}"
      ]
     },
     "execution_count": 45,
     "metadata": {},
     "output_type": "execute_result"
    }
   ],
   "source": [
    "a & b"
   ]
  },
  {
   "cell_type": "code",
   "execution_count": 46,
   "metadata": {},
   "outputs": [
    {
     "data": {
      "text/plain": [
       "{10}"
      ]
     },
     "execution_count": 46,
     "metadata": {},
     "output_type": "execute_result"
    }
   ],
   "source": [
    "b & c"
   ]
  },
  {
   "cell_type": "code",
   "execution_count": 47,
   "metadata": {},
   "outputs": [
    {
     "data": {
      "text/plain": [
       "{2, 4}"
      ]
     },
     "execution_count": 47,
     "metadata": {},
     "output_type": "execute_result"
    }
   ],
   "source": [
    "a & c"
   ]
  },
  {
   "cell_type": "code",
   "execution_count": 48,
   "metadata": {},
   "outputs": [
    {
     "data": {
      "text/plain": [
       "set()"
      ]
     },
     "execution_count": 48,
     "metadata": {},
     "output_type": "execute_result"
    }
   ],
   "source": [
    "a & b & c"
   ]
  },
  {
   "cell_type": "markdown",
   "metadata": {},
   "source": [
    "**Разность**"
   ]
  },
  {
   "cell_type": "code",
   "execution_count": 49,
   "metadata": {},
   "outputs": [
    {
     "data": {
      "text/plain": [
       "{2, 4, 5, 6}"
      ]
     },
     "execution_count": 49,
     "metadata": {},
     "output_type": "execute_result"
    }
   ],
   "source": [
    "a - b"
   ]
  },
  {
   "cell_type": "code",
   "execution_count": 50,
   "metadata": {},
   "outputs": [
    {
     "data": {
      "text/plain": [
       "{1, 3, 7, 9, 11, 13}"
      ]
     },
     "execution_count": 50,
     "metadata": {},
     "output_type": "execute_result"
    }
   ],
   "source": [
    "b - c"
   ]
  },
  {
   "cell_type": "code",
   "execution_count": 51,
   "metadata": {},
   "outputs": [
    {
     "data": {
      "text/plain": [
       "{1, 3, 5, 6, 7}"
      ]
     },
     "execution_count": 51,
     "metadata": {},
     "output_type": "execute_result"
    }
   ],
   "source": [
    "a - c"
   ]
  },
  {
   "cell_type": "code",
   "execution_count": 54,
   "metadata": {},
   "outputs": [
    {
     "name": "stdout",
     "output_type": "stream",
     "text": [
      "{5, 6}\n",
      "{5, 6}\n",
      "{9, 11, 13}\n",
      "{9, 11, 13}\n",
      "{8, 12, 14}\n",
      "{8, 12, 14}\n"
     ]
    }
   ],
   "source": [
    "print(a - b - c)\n",
    "print(a - c - b)\n",
    "print(b - a - c)\n",
    "print(b - c - a)\n",
    "print(c - a - b)\n",
    "print(c - b - a)"
   ]
  },
  {
   "cell_type": "markdown",
   "metadata": {},
   "source": [
    "**Симметричная разность**"
   ]
  },
  {
   "cell_type": "code",
   "execution_count": 55,
   "metadata": {},
   "outputs": [
    {
     "data": {
      "text/plain": [
       "{2, 4, 5, 6, 9, 10, 11, 13}"
      ]
     },
     "execution_count": 55,
     "metadata": {},
     "output_type": "execute_result"
    }
   ],
   "source": [
    "a ^ b"
   ]
  },
  {
   "cell_type": "code",
   "execution_count": 56,
   "metadata": {},
   "outputs": [
    {
     "data": {
      "text/plain": [
       "{1, 2, 3, 4, 7, 8, 9, 11, 12, 13, 14}"
      ]
     },
     "execution_count": 56,
     "metadata": {},
     "output_type": "execute_result"
    }
   ],
   "source": [
    "b ^ c"
   ]
  },
  {
   "cell_type": "code",
   "execution_count": 57,
   "metadata": {},
   "outputs": [
    {
     "data": {
      "text/plain": [
       "{1, 3, 5, 6, 7, 8, 10, 12, 14}"
      ]
     },
     "execution_count": 57,
     "metadata": {},
     "output_type": "execute_result"
    }
   ],
   "source": [
    "a ^ c"
   ]
  },
  {
   "cell_type": "code",
   "execution_count": 58,
   "metadata": {},
   "outputs": [
    {
     "name": "stdout",
     "output_type": "stream",
     "text": [
      "{5, 6, 8, 9, 11, 12, 13, 14}\n",
      "{5, 6, 8, 9, 11, 12, 13, 14}\n",
      "{5, 6, 8, 9, 11, 12, 13, 14}\n",
      "{5, 6, 8, 9, 11, 12, 13, 14}\n",
      "{5, 6, 8, 9, 11, 12, 13, 14}\n",
      "{5, 6, 8, 9, 11, 12, 13, 14}\n"
     ]
    }
   ],
   "source": [
    "print(a ^ b ^ c)\n",
    "print(a ^ c ^ b)\n",
    "print(b ^ a ^ c)\n",
    "print(b ^ c ^ a)\n",
    "print(c ^ a ^ b)\n",
    "print(c ^ b ^ a)"
   ]
  },
  {
   "cell_type": "markdown",
   "metadata": {},
   "source": [
    "## Последовательность"
   ]
  },
  {
   "cell_type": "markdown",
   "metadata": {},
   "source": [
    "1. **Даны 4 последовательности. Необходимо:**\n",
    "    - **исследовать их на монотонность;**\n",
    "    - **исследовать на ограниченность;**\n",
    "    - **найти пятый по счету член.**\n",
    "\n",
    "<center>\n",
    "    $$\n",
    "        1) \\left\\{ a_n \\right\\}_{n=1}^{\\infty} = 2^n - n \\\\\n",
    "        2) \\left\\{ b_n \\right\\}_{n=2}^{\\infty} = \\frac{1}{1-n} \\\\\n",
    "        3) \\left\\{ c_n \\right\\}_{n=1}^{\\infty} = -1^n + \\sqrt{2n} \\\\\n",
    "        4) \\left\\{ d_n \\right\\}_{n=1}^{\\infty} = (-1)^{2n} + \\frac{1}{n^2}\n",
    "    $$\n",
    "</center>"
   ]
  },
  {
   "cell_type": "markdown",
   "metadata": {},
   "source": [
    "1) $ \\left\\{ a_n \\right\\}_{n=1}^{\\infty} = 2^n - n $\n",
    "  - Последовательность возрастает.\n",
    "  - Последовательность ограничена снизу: $ 1 \\le \\left\\{ a_n \\right\\}_{n=1}^{\\infty} < \\infty $.\n",
    "      - $2^n > n$ при любых n, поэтому наименьшее значение будет при наименьшем $n = 1 \\Rightarrow a_1 = 2^1 - 1 = 1$.\n",
    "      - Предел последовательности = $\\infty$, т.к. $2^n$ растет быстрее $n$ и уходит в бесконечность, наибольшего значения нет.\n",
    "  - 5-й член последовательности $a_5 = 27 $."
   ]
  },
  {
   "cell_type": "markdown",
   "metadata": {},
   "source": [
    "2) $ \\left\\{ b_n \\right\\}_{n=2}^{\\infty} = \\frac{1}{1-n} $\n",
    "  - Последовательность возрастает.\n",
    "  - Последовательность ограничена снизу и сверху: $ -1 \\le \\left\\{ b_n \\right\\}_{n=2}^{\\infty} < 0 $.\n",
    "      - Минимальный член последовательности - $-1$, при $n = 2$.\n",
    "      - Далее, с увеличением $n$, значение последовательности все растет, стремясь к $0$ при стремлении $n$ к $\\infty$.\n",
    "  - 5-й член последовательности $b_6 = -0.2$."
   ]
  },
  {
   "cell_type": "markdown",
   "metadata": {},
   "source": [
    "3) $ \\left\\{ c_n \\right\\}_{n=1}^{\\infty} = -1^n + \\sqrt{2n} $\n",
    "  - Последовательность возрастает.\n",
    "  - Последовательность ограничена снизу: $ -1 + \\sqrt{2} \\le \\left\\{ c_n \\right\\}_{n=1}^{\\infty} < \\infty $.\n",
    "      - Функция $\\sqrt{2n}$ растет до бесконечности, $-1^n$ не оказывает сильного влияния на нее.\n",
    "      - $-1^n$ всегда равна -1.\n",
    "      - $\\sqrt{2n}$ минимальна при $n = 1$.\n",
    "      - Значит, вся функция $-1^n + \\sqrt{2n}$ минимальна при $n = 1$, ее минимальное значение = $-1 + \\sqrt{2}$.\n",
    "  - 5-й член последовательности $c_5 = -1 + \\sqrt{10}$."
   ]
  },
  {
   "cell_type": "markdown",
   "metadata": {},
   "source": [
    "4) $ \\left\\{ d_n \\right\\}_{n=1}^{\\infty} = (-1)^{2n} + \\frac{1}{n^2} $\n",
    "  - Последовательность убывает.\n",
    "  - Последовательность ограничена снизу и сверху: $ 1 < \\left\\{ d_n \\right\\}_{n=1}^{\\infty} \\le 2 $.\n",
    "      - $(-1)^{2n}$ всегда равно $1$.\n",
    "      - $1/n^2$ максимально при $n = 1$ со значением $1$ и минимально при стремлении $n$ к $\\infty$ со значением, стремящимся к 0.\n",
    "  - 5-й член последовательности $d_5 = 1.04$."
   ]
  },
  {
   "cell_type": "markdown",
   "metadata": {},
   "source": [
    "2. **Найти 12-й член заданной неявно последовательности**\n",
    "\n",
    "<center>\n",
    "    $$ a_{1} = 128, a_{n+1} - a_{n} = 6 $$\n",
    "</center>"
   ]
  },
  {
   "cell_type": "code",
   "execution_count": 59,
   "metadata": {},
   "outputs": [
    {
     "data": {
      "text/plain": [
       "194"
      ]
     },
     "execution_count": 59,
     "metadata": {},
     "output_type": "execute_result"
    }
   ],
   "source": [
    "n = 12\n",
    "a = 128\n",
    "for _ in range(n - 1):\n",
    "    a += 6\n",
    "a"
   ]
  },
  {
   "cell_type": "markdown",
   "metadata": {},
   "source": [
    "Или же проще:"
   ]
  },
  {
   "cell_type": "code",
   "execution_count": 60,
   "metadata": {},
   "outputs": [
    {
     "data": {
      "text/plain": [
       "194"
      ]
     },
     "execution_count": 60,
     "metadata": {},
     "output_type": "execute_result"
    }
   ],
   "source": [
    "n = 12\n",
    "a = 128 + 6 * (n - 1)\n",
    "a"
   ]
  },
  {
   "cell_type": "markdown",
   "metadata": {},
   "source": [
    "Ответ: $a_{12} = 194$."
   ]
  },
  {
   "cell_type": "markdown",
   "metadata": {},
   "source": [
    "3. **\\*На языке Python предложить алгоритм вычисляющий численно предел с точностью $\\varepsilon = 10^{-7}$.**\n",
    "\n",
    "<center>\n",
    "    $$ \\lim_{n \\to +\\infty} \\frac{n}{\\sqrt[n]{n!}} $$\n",
    "</center>"
   ]
  },
  {
   "cell_type": "code",
   "execution_count": 54,
   "metadata": {},
   "outputs": [],
   "source": [
    "import numpy as np\n",
    "import matplotlib.pyplot as plt"
   ]
  },
  {
   "cell_type": "code",
   "execution_count": 55,
   "metadata": {},
   "outputs": [
    {
     "data": {
      "image/png": "[encoded data removed]",
      "text/plain": [
       "<Figure size 432x288 with 1 Axes>"
      ]
     },
     "metadata": {
      "needs_background": "light"
     },
     "output_type": "display_data"
    }
   ],
   "source": [
    "n = 170\n",
    "x = np.arange(1, n + 1)\n",
    "y = x / np.power(list(map(np.math.factorial, x)), [1 / value for value in x])\n",
    "plt.plot(x, y)\n",
    "plt.show()"
   ]
  },
  {
   "cell_type": "markdown",
   "metadata": {},
   "source": [
    "По критерию Коши требуется, чтобы $ |a_n - a_{n+k}| < \\varepsilon $. \\\n",
    "Раз $\\varepsilon = 10^{-7}$, то $ |a_n - a_{n+k}| < 10^{-7} $."
   ]
  },
  {
   "cell_type": "markdown",
   "metadata": {},
   "source": [
    "$ |\\frac{n}{\\sqrt[n]{n!} - \\frac{n+k}{\\sqrt[n+k]{(n+k)!}| < 10^{-7} $"
   ]
  },
  {
   "cell_type": "markdown",
   "metadata": {},
   "source": [
    "4. **\\*Предложить оптимизацию алгоритма, полученного в задании 3, ускоряющую его сходимость.**"
   ]
  },
  {
   "cell_type": "code",
   "execution_count": null,
   "metadata": {},
   "outputs": [],
   "source": []
  }
 ],
 "metadata": {
  "kernelspec": {
   "display_name": "Python 3",
   "language": "python",
   "name": "python3"
  },
  "language_info": {
   "codemirror_mode": {
    "name": "ipython",
    "version": 3
   },
   "file_extension": ".py",
   "mimetype": "text/x-python",
   "name": "python",
   "nbconvert_exporter": "python",
   "pygments_lexer": "ipython3",
   "version": "3.7.8"
  }
 },
 "nbformat": 4,
 "nbformat_minor": 4
}
