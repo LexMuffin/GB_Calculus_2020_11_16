{
 "cells": [
  {
   "cell_type": "markdown",
   "metadata": {},
   "source": [
    "# GeekBrains Calculus. Lesson 4 & 5 Homework."
   ]
  },
  {
   "cell_type": "markdown",
   "metadata": {},
   "source": [
    "LaTeX helper guide: \\\n",
    "https://oeis.org/wiki/List_of_LaTeX_mathematical_symbols"
   ]
  },
  {
   "cell_type": "code",
   "execution_count": 4,
   "metadata": {},
   "outputs": [],
   "source": [
    "import matplotlib.pyplot as plt\n",
    "import numpy as np\n",
    "%matplotlib inline"
   ]
  },
  {
   "cell_type": "markdown",
   "metadata": {},
   "source": [
    "## Тема “Предел функции”"
   ]
  },
  {
   "cell_type": "markdown",
   "metadata": {},
   "source": [
    "1. **Предложить пример функции, не имеющей предела в нуле и в бесконечностях.**"
   ]
  },
  {
   "cell_type": "markdown",
   "metadata": {},
   "source": [
    "$ f(x) = sin 359x $ \\\n",
    "Предела не существует, т.к. функция периодическая."
   ]
  },
  {
   "cell_type": "markdown",
   "metadata": {},
   "source": [
    "2. **Привести пример функции, не имеющей предела в точке, но определенной в ней.**"
   ]
  },
  {
   "cell_type": "markdown",
   "metadata": {},
   "source": [
    "Опять же, $ f(x) = sin x || f(x) = cos x$, в любой точке."
   ]
  },
  {
   "cell_type": "markdown",
   "metadata": {},
   "source": [
    "3. **Исследовать функцию $ f(x) = x^3 - x^2 $ по плану:**\n",
    "    1. **Область задания и область значений.**\n",
    "    2. **Нули функции и их кратность.**\n",
    "    3. **Отрезки знакопостоянства.**\n",
    "    4. **Интервалы монотонности.**\n",
    "    5. **Четность функции.**\n",
    "    6. **Ограниченность.**\n",
    "    7. **Периодичность.**"
   ]
  },
  {
   "cell_type": "markdown",
   "metadata": {},
   "source": [
    "Построим график."
   ]
  },
  {
   "cell_type": "code",
   "execution_count": 52,
   "metadata": {},
   "outputs": [
    {
     "data": {
      "text/plain": [
       "array([ 1.0000000e+00,  9.5000000e-01,  9.0000000e-01,  8.5000000e-01,\n",
       "        8.0000000e-01,  7.5000000e-01,  7.0000000e-01,  6.5000000e-01,\n",
       "        6.0000000e-01,  5.5000000e-01,  5.0000000e-01,  4.5000000e-01,\n",
       "        4.0000000e-01,  3.5000000e-01,  3.0000000e-01,  2.5000000e-01,\n",
       "        2.0000000e-01,  1.5000000e-01,  1.0000000e-01,  5.0000000e-02,\n",
       "       -8.8817842e-16, -5.0000000e-02, -1.0000000e-01, -1.5000000e-01,\n",
       "       -2.0000000e-01, -2.5000000e-01, -3.0000000e-01, -3.5000000e-01,\n",
       "       -4.0000000e-01, -4.5000000e-01, -5.0000000e-01, -5.5000000e-01,\n",
       "       -6.0000000e-01, -6.5000000e-01, -7.0000000e-01, -7.5000000e-01,\n",
       "       -8.0000000e-01, -8.5000000e-01, -9.0000000e-01, -9.5000000e-01,\n",
       "       -1.0000000e+00, -1.0500000e+00, -1.1000000e+00, -1.1500000e+00,\n",
       "       -1.2000000e+00, -1.2500000e+00, -1.3000000e+00, -1.3500000e+00,\n",
       "       -1.4000000e+00, -1.4500000e+00])"
      ]
     },
     "execution_count": 52,
     "metadata": {},
     "output_type": "execute_result"
    }
   ],
   "source": [
    "x = np.arange(-1, 1.5, 0.05)\n",
    "y = np.power(x, 3) - np.power(x, 2)\n",
    "y_2 = -np.power(x, 3) - np.power(x, 2)"
   ]
  },
  {
   "cell_type": "code",
   "execution_count": 51,
   "metadata": {},
   "outputs": [
    {
     "data": {
      "image/png": "[encoded data removed]",
      "text/plain": [
       "<Figure size 432x288 with 1 Axes>"
      ]
     },
     "metadata": {
      "needs_background": "light"
     },
     "output_type": "display_data"
    }
   ],
   "source": [
    "plt.plot(x, y, label='f(x) = x^3 - x^2')\n",
    "plt.plot(x, y_2, label='f(x) = -x^3 - x^2')\n",
    "plt.grid()\n",
    "plt.xlabel('x')\n",
    "plt.ylabel('f(x)')\n",
    "plt.legend()\n",
    "plt.show()"
   ]
  },
  {
   "cell_type": "markdown",
   "metadata": {},
   "source": [
    "3. **Исследовать функцию $ f(x) = x^3 - x^2 $ по плану:**\n",
    "    1. **Область задания и область значений.**\n",
    "    2. **Нули функции и их кратность.**\n",
    "    3. **Отрезки знакопостоянства.**\n",
    "    4. **Интервалы монотонности.**\n",
    "    5. **Четность функции.**\n",
    "    6. **Ограниченность.**\n",
    "    7. **Периодичность.**"
   ]
  },
  {
   "cell_type": "markdown",
   "metadata": {},
   "source": [
    "A. Область определения и область значений:\n",
    "- Область определения: $(-\\infty; +\\infty)$.\n",
    "- Область значений: $(-\\infty; +\\infty)$."
   ]
  },
  {
   "cell_type": "markdown",
   "metadata": {},
   "source": [
    "B. Нули функции и их кратность:\n",
    "- Нули функции: $(0; 0), (\\frac{2}{3}; 0)$.\n",
    "    - Находим значения x в экстремумах: $ f'(x) = 3x^2 - 2x = 0 \\Rightarrow x * (3x - 2) = 0 \\Rightarrow x = 0; \\frac{2}{3} $.\n",
    "- Кратность каждого корня = $1$."
   ]
  },
  {
   "cell_type": "markdown",
   "metadata": {},
   "source": [
    "C. Отрезки знакопостоянства:\n",
    "- Отрицательные: $(-\\infty; 0), (0; 1)$.\n",
    "- Положительные: $(1; +\\infty)$."
   ]
  },
  {
   "cell_type": "markdown",
   "metadata": {},
   "source": [
    "D. Интервалы монотонности:\n",
    "- Убывающие: $(0; \\frac{2}{3})$.\n",
    "- Возрастающие: $(-\\infty; 0), (\\frac{2}{3}; +\\infty)$."
   ]
  },
  {
   "cell_type": "markdown",
   "metadata": {},
   "source": [
    "E. Четность функции:\n",
    "- Функция не является четной или нечетной.\n",
    "    - $ -(x^3 - x^2) = -x^3 + x^2 \\neq -x^3 - x^2 = (-x)^3 - x^2$, поэтому $ -f(x) \\neq f(-x) $.\n",
    "    - $ x^3 - x^2 \\neq -x^3 - x^2 = (-x)^3 - x^2$, поэтому $ f(x) \\neq f(-x) $."
   ]
  },
  {
   "cell_type": "markdown",
   "metadata": {},
   "source": [
    "F. Ограниченность:\n",
    "- Функция не ограничена, область значений $[-\\infty; +\\infty]$."
   ]
  },
  {
   "cell_type": "markdown",
   "metadata": {},
   "source": [
    "G. Периодичность:\n",
    "- Функция непериодична, количество интервалов монотонности конечно."
   ]
  },
  {
   "cell_type": "markdown",
   "metadata": {},
   "source": [
    "4. **Найти предел:**\n",
    "    1. $$ \\lim_{x \\to 0} \\frac{3x^3 - 2x^2}{4x^2} $$\n",
    "    2. $$ * \\lim_{x \\to 0} \\frac{\\sqrt{1 + x} - 1}{\\sqrt[3]{1 + x} - 1} $$\n",
    "    3. $$ * \\lim_{x \\to \\infty} (\\frac{x + 3}{x})^{4x + 1} $$"
   ]
  },
  {
   "cell_type": "markdown",
   "metadata": {},
   "source": [
    "1. $$ \\lim_{x \\to 0} \\frac{3x^3 - 2x^2}{4x^2} = (\\frac{0}{0}) = \\lim_{x \\to 0} \\frac{x^2 * (3x - 2)}{4x^2} = \\lim_{x \\to 0} \\frac{3x - 2}{4} = \\lim_{x \\to 0} \\frac{-2}{4} = -\\frac{1}{2}$$\n",
    "Ответ: $-\\frac{1}{2}$."
   ]
  },
  {
   "cell_type": "markdown",
   "metadata": {},
   "source": [
    "2. $$ \n",
    "* \\lim_{x \\to 0} \\frac{\\sqrt{1 + x} - 1}{\\sqrt[3]{1 + x} - 1} = (\\frac{0}{0}) \n",
    "= \\lim_{x \\to 0} \\frac{\\sqrt{1 + x} - 1}{\\sqrt[3]{1 + x} - 1} * \\frac{\\sqrt{1 + x} + 1}{\\sqrt[3]{1 + x} + 1} \n",
    "* \\frac{\\sqrt[3]{(1 + x)^2} + \\sqrt[3]{1 + x} + 1}{\\sqrt[3]{(1 + x)^2} + \\sqrt[3]{1 + x} + 1} \n",
    "= \\lim_{x \\to 0} \\frac{(1+x-1)(\\sqrt[3]{(1 + x)^2} + \\sqrt[3]{1 + x} + 1)}{(1+x-1)(\\sqrt{1 + x} + 1)}\n",
    "= \\frac{3}{2}\n",
    "$$\n",
    "Ответ: $\\frac{3}{2}$."
   ]
  },
  {
   "cell_type": "markdown",
   "metadata": {},
   "source": [
    "3. $$\n",
    "* \\lim_{x \\to \\infty} (\\frac{x + 3}{x})^{4x + 1}\n",
    "= \\lim_{x \\to \\infty} (1 + \\frac{3}{x})^{4x + 1}\n",
    "= \\lim_{x \\to \\infty} (1 + \\frac{3}{x})^{4x} + \\lim_{x \\to \\infty} (1 + \\frac{3}{x})\n",
    "= \\lim_{x \\to \\infty} (1 + \\frac{3}{x})^{4x} * 1\n",
    "= \\lim_{x \\to \\infty} (1 + \\frac{3}{x})^{4x}\n",
    "= \\lim_{x \\to \\infty} (1 + \\frac{3}{x})^{\\frac{x}{3} * \\frac{3}{x} * 4x}\n",
    "= (\\lim_{x \\to \\infty} (1 + \\frac{3}{x})^{\\frac{x}{3}})^{12}\n",
    "= e^{12}\n",
    "$$\n",
    "Ответ: $e^{12}$."
   ]
  },
  {
   "cell_type": "markdown",
   "metadata": {},
   "source": [
    "## Тема “Теоремы о пределах”"
   ]
  },
  {
   "cell_type": "markdown",
   "metadata": {},
   "source": [
    "1. **Найти предел:**\n",
    "    1. $$ \\lim_{x \\to 0} \\frac{sin(2x)}{4x} $$\n",
    "    2. $$ \\lim_{x \\to 0} \\frac{x}{sin(x)} $$\n",
    "    3. $$ \\lim_{x \\to 0} \\frac{x}{arcsin(x)} $$\n",
    "    4. $$ \\lim_{x \\to \\infty} (\\frac{4x + 3}{4x - 3})^{6x} $$\n",
    "    5. $$ * \\lim_{x \\to \\infty} \\frac{sin(x) + ln(x)}{x} $$\n",
    "    6. $$ * \\lim_{x \\to 0} \\frac{sin(x) + ln(x)}{x} $$"
   ]
  },
  {
   "cell_type": "markdown",
   "metadata": {},
   "source": [
    "1. $$\n",
    "\\lim_{x \\to 0} \\frac{sin(2x)}{4x} \n",
    "= (\\frac{0}{0}) \n",
    "= \\lim_{x \\to 0} \\frac{sin(2x)}{2 * 2x} \n",
    "= \\lim_{x \\to 0} (1 * \\frac{1}{2}) \n",
    "= \\frac{1}{2}\n",
    "$$\n",
    "Ответ: $\\frac{1}{2}$."
   ]
  },
  {
   "cell_type": "markdown",
   "metadata": {},
   "source": [
    "2. $$\n",
    "\\lim_{x \\to 0} \\frac{x}{sin(x)} \n",
    "= (0/0)\n",
    "= \\frac{1}{\\lim_{x \\to 0} \\frac{sin(x)}{x}} \n",
    "= \\frac{1}{1}\n",
    "= 1\n",
    "$$\n",
    "Ответ: $1$."
   ]
  },
  {
   "cell_type": "markdown",
   "metadata": {},
   "source": [
    "3. \\\n",
    "$arcsin(x) \\approx x$ по таблице эквивалентностей.\n",
    "$$\n",
    "\\lim_{x \\to 0} \\frac{x}{arcsin(x)}\n",
    "= \\lim_{x \\to 0} \\frac{x}{x}\n",
    "= \\lim_{x \\to 0} 1\n",
    "= 1\n",
    "$$\n",
    "Ответ: $1$."
   ]
  },
  {
   "cell_type": "markdown",
   "metadata": {},
   "source": [
    "4. $$\n",
    "\\lim_{x \\to \\infty} (\\frac{4x + 3}{4x - 3})^{6x}\n",
    "= \\lim_{x \\to \\infty} (1 + \\frac{6}{4x - 3})^{6x}\n",
    "= \\lim_{x \\to \\infty} (1 + \\frac{6}{4x - 3})^{\\frac{4x - 3}{6} * \\frac{6}{4x - 3} * 6x}\n",
    "= \\lim_{x \\to \\infty} ((1 + \\frac{6}{4x - 3})^{\\frac{4x - 3}{6}})^{\\frac{36}{4 - \\frac{3}{x}}}\n",
    "= e^{\\lim_{x \\to \\infty} \\frac{36}{4 - \\frac{3}{x}}}\n",
    "= e^9\n",
    "$$\n",
    "Ответ: $e^9$."
   ]
  },
  {
   "cell_type": "markdown",
   "metadata": {},
   "source": [
    "5. $$\n",
    "* \\lim_{x \\to \\infty} \\frac{sin(x) + ln(x)}{x}\n",
    "=\n",
    "$$\n",
    "Ответ: $$."
   ]
  },
  {
   "cell_type": "markdown",
   "metadata": {},
   "source": [
    "6. $$\n",
    "* \\lim_{x \\to 0} \\frac{sin(x) + ln(x)}{x}\n",
    "=\n",
    "$$\n",
    "Ответ: $$."
   ]
  }
 ],
 "metadata": {
  "kernelspec": {
   "display_name": "Python 3",
   "language": "python",
   "name": "python3"
  },
  "language_info": {
   "codemirror_mode": {
    "name": "ipython",
    "version": 3
   },
   "file_extension": ".py",
   "mimetype": "text/x-python",
   "name": "python",
   "nbconvert_exporter": "python",
   "pygments_lexer": "ipython3",
   "version": "3.7.8"
  }
 },
 "nbformat": 4,
 "nbformat_minor": 4
}
