{
 "cells": [
  {
   "cell_type": "markdown",
   "metadata": {},
   "source": [
    "# GeekBrains Calculus. Lesson 4 & 5 Homework."
   ]
  },
  {
   "cell_type": "markdown",
   "metadata": {},
   "source": [
    "LaTeX helper guide: \\\n",
    "https://oeis.org/wiki/List_of_LaTeX_mathematical_symbols"
   ]
  },
  {
   "cell_type": "markdown",
   "metadata": {},
   "source": [
    "## Тема “Предел функции”"
   ]
  },
  {
   "cell_type": "markdown",
   "metadata": {},
   "source": [
    "1. **Предложить пример функции, не имеющей предела в нуле и в бесконечностях.**"
   ]
  },
  {
   "cell_type": "markdown",
   "metadata": {},
   "source": []
  },
  {
   "cell_type": "markdown",
   "metadata": {},
   "source": [
    "2. **Привести пример функции, не имеющей предела в точке, но определенной в ней.**"
   ]
  },
  {
   "cell_type": "markdown",
   "metadata": {},
   "source": []
  },
  {
   "cell_type": "markdown",
   "metadata": {},
   "source": [
    "3. **Исследовать функцию $ f(x) = x^3 - x^2 $ по плану:**\n",
    "    1. **Область задания и область значений.**\n",
    "    2. **Нули функции и их кратность.**\n",
    "    3. **Отрезки знакопостоянства.**\n",
    "    4. **Интервалы монотонности.**\n",
    "    5. **Четность функции.**\n",
    "    6. **Ограниченность.**\n",
    "    7. **Периодичность.**"
   ]
  },
  {
   "cell_type": "markdown",
   "metadata": {},
   "source": []
  },
  {
   "cell_type": "markdown",
   "metadata": {},
   "source": [
    "4. **Найти предел:**\n",
    "    1. $$ \\lim_{x \\to 0} \\frac{3x^3 - 2x^2}{4x^2} $$\n",
    "    2. $$ * \\lim_{x \\to 0} \\frac{\\sqrt{1 + x} - 1}{\\sqrt[3]{1 + x} - 1} $$\n",
    "    3. $$ * \\lim_{x \\to \\infty} (\\frac{x + 3}{x})^{4x + 1} $$"
   ]
  },
  {
   "cell_type": "markdown",
   "metadata": {},
   "source": []
  },
  {
   "cell_type": "markdown",
   "metadata": {},
   "source": [
    "## Тема “Теоремы о пределах”"
   ]
  },
  {
   "cell_type": "markdown",
   "metadata": {},
   "source": [
    "1. **Найти предел:**\n",
    "    1. $$ \\lim_{x \\to 0} \\frac{sin(2x)}{4x} $$\n",
    "    2. $$ \\lim_{x \\to 0} \\frac{x}{sin(x)} $$\n",
    "    3. $$ \\lim_{x \\to 0} \\frac{x}{arcsin(x)} $$\n",
    "    4. $$ \\lim_{x \\to \\infty} (\\frac{4x + 3}{4x - 3})^{6x} $$\n",
    "    5. $$ * \\lim_{x \\to \\infty} \\frac{sin(x) + ln(x)}{x} $$\n",
    "    6. $$ * \\lim_{x \\to 0} \\frac{sin(x) + ln(x)}{x} $$"
   ]
  },
  {
   "cell_type": "markdown",
   "metadata": {},
   "source": [
    "A. $$ \\lim_{x \\to 0} \\frac{sin(2x)}{4x} $$\n"
   ]
  },
  {
   "cell_type": "markdown",
   "metadata": {},
   "source": [
    "B. $$ \\lim_{x \\to 0} \\frac{x}{sin(x)} $$\n",
    "    "
   ]
  },
  {
   "cell_type": "markdown",
   "metadata": {},
   "source": [
    "C. $$ \\lim_{x \\to 0} \\frac{x}{arcsin(x)} $$\n",
    "    "
   ]
  },
  {
   "cell_type": "markdown",
   "metadata": {},
   "source": [
    "D. $$ \\lim_{x \\to \\infty} (\\frac{4x + 3}{4x - 3})^{6x} $$\n",
    "    "
   ]
  },
  {
   "cell_type": "markdown",
   "metadata": {},
   "source": [
    "E. $$ * \\lim_{x \\to \\infty} \\frac{sin(x) + ln(x)}{x} $$\n",
    "    "
   ]
  },
  {
   "cell_type": "markdown",
   "metadata": {},
   "source": [
    "F. $$ * \\lim_{x \\to 0} \\frac{sin(x) + ln(x)}{x} $$\n"
   ]
  }
 ],
 "metadata": {
  "kernelspec": {
   "display_name": "Python 3",
   "language": "python",
   "name": "python3"
  },
  "language_info": {
   "codemirror_mode": {
    "name": "ipython",
    "version": 3
   },
   "file_extension": ".py",
   "mimetype": "text/x-python",
   "name": "python",
   "nbconvert_exporter": "python",
   "pygments_lexer": "ipython3",
   "version": "3.7.8"
  }
 },
 "nbformat": 4,
 "nbformat_minor": 4
}
